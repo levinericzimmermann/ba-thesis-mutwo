{
 "cells": [
  {
   "cell_type": "code",
   "execution_count": 1,
   "id": "40233798",
   "metadata": {},
   "outputs": [
    {
     "name": "stderr",
     "output_type": "stream",
     "text": [
      "/home/levinericzimmermann/Texts/21BAmutwo/jupyter/.venv/lib/python3.9/site-packages/mutwo/music_parameters/lyrics/__init__.py:17: RuntimeWarning: Couldn't find backend Espeak Mbrola. Can't import TextBasedLyric classes. Please install backend first if you want to use the classes.\n",
      "  warnings.warn(\n"
     ]
    }
   ],
   "source": [
    "from mutwo import music_parameters"
   ]
  },
  {
   "cell_type": "code",
   "execution_count": 2,
   "id": "0c2e9683",
   "metadata": {},
   "outputs": [],
   "source": [
    "c4 = music_parameters.WesternPitch('c', 4)"
   ]
  },
  {
   "cell_type": "code",
   "execution_count": 3,
   "id": "34e8055f",
   "metadata": {},
   "outputs": [
    {
     "name": "stdout",
     "output_type": "stream",
     "text": [
      "261.6255653005985\n"
     ]
    }
   ],
   "source": [
    "print(c4.frequency)"
   ]
  },
  {
   "cell_type": "code",
   "execution_count": 4,
   "id": "baf952f6",
   "metadata": {},
   "outputs": [],
   "source": [
    "music_parameters.configurations.DEFAULT_CONCERT_PITCH = 443"
   ]
  },
  {
   "cell_type": "code",
   "execution_count": 5,
   "id": "7788b44c",
   "metadata": {},
   "outputs": [],
   "source": [
    "c4_443 = music_parameters.WesternPitch('c', 4)"
   ]
  },
  {
   "cell_type": "code",
   "execution_count": 6,
   "id": "7c504578",
   "metadata": {},
   "outputs": [
    {
     "name": "stdout",
     "output_type": "stream",
     "text": [
      "263.4093759731026\n"
     ]
    }
   ],
   "source": [
    "print(c4_443.frequency)"
   ]
  },
  {
   "cell_type": "code",
   "execution_count": null,
   "id": "27fcec20",
   "metadata": {},
   "outputs": [],
   "source": []
  }
 ],
 "metadata": {
  "kernelspec": {
   "display_name": "Python 3 (ipykernel)",
   "language": "python",
   "name": "python3"
  },
  "language_info": {
   "codemirror_mode": {
    "name": "ipython",
    "version": 3
   },
   "file_extension": ".py",
   "mimetype": "text/x-python",
   "name": "python",
   "nbconvert_exporter": "python",
   "pygments_lexer": "ipython3",
   "version": "3.9.12"
  }
 },
 "nbformat": 4,
 "nbformat_minor": 5
}
