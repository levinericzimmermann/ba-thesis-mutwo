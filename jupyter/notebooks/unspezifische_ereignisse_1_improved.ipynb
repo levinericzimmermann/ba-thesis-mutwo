{
 "cells": [
  {
   "cell_type": "markdown",
   "id": "bf0ce978",
   "metadata": {},
   "source": [
    "# Unspezifische Ereignisse\n",
    "\n",
    "## Funktionen höherer Ordnung\n",
    "\n",
    "Dieses Jupyter Notebook demonstriert praktisch den Umgang mit Funktionen höherer\n",
    "Ordnung in dritten Programmkomponenten.\n",
    "\n",
    "Die exemplarische dritte Programmkomponente ist hier ein Übersetzer von\n",
    "Ereignisse in MIDI Dateien.\n",
    "\n",
    "Zuerst müssen die spezifischen Module gelanden werden"
   ]
  },
  {
   "cell_type": "code",
   "execution_count": 2,
   "id": "9c5f577a",
   "metadata": {},
   "outputs": [],
   "source": [
    "from mutwo import core_events\n",
    "from mutwo import midi_converters\n",
    "from mutwo import music_parameters"
   ]
  },
  {
   "cell_type": "markdown",
   "id": "6ec2cbe6",
   "metadata": {},
   "source": [
    "Als nächstes wird für dieses Beispiel die Klasse **Note** definiert. Sie soll eine **Note** im Kontext westlicher Musik repräsentieren."
   ]
  },
  {
   "cell_type": "code",
   "execution_count": 3,
   "id": "693652e4",
   "metadata": {},
   "outputs": [],
   "source": [
    "class Note(core_events.SimpleEvent):\n",
    "    # Dynamik ist konstant\n",
    "    volume = music_parameters.WesternVolume('p')\n",
    "\n",
    "    def __init__(self, pitch, duration):\n",
    "        self.pitch = pitch\n",
    "        \n",
    "        # Das ist Python spezifischer Syntax, um dem Konstruktor\n",
    "        # der Basisklasse das \"duration\" Argument zu übermitteln.\n",
    "        super().__init__(duration)"
   ]
  },
  {
   "cell_type": "markdown",
   "id": "917d419e",
   "metadata": {},
   "source": [
    "Jetzt wird eine einfache Melodie aus zwei Noten definiert."
   ]
  },
  {
   "cell_type": "code",
   "execution_count": 4,
   "id": "0b20178b",
   "metadata": {},
   "outputs": [],
   "source": [
    "melody = core_events.SequentialEvent(\n",
    "    [\n",
    "        Note(music_parameters.WesternPitch('c'), 1),\n",
    "        Note(music_parameters.WesternPitch('d'), 1),\n",
    "    ]\n",
    ")"
   ]
  },
  {
   "cell_type": "markdown",
   "id": "4a7b899e",
   "metadata": {},
   "source": [
    "Jetzt soll die Melodie in eine MIDI Datei übersetzt werden.\n",
    "\n",
    "In der [API Dokumentation der Klasse](https://mutwo.readthedocs.io/en/latest/api/mutwo.midi_converters.html#mutwo.midi_converters.EventToMidiFile) *EventToMidiFile* kann nachgelesen werden, dass diese unter anderem das Argument *simple_event_to_pitch_list* hat. Wir können auch nachlesen, dass dieses Argument standardisiert davon ausgeht, dass ein *SimpleEvent* ein Attribut namens *pitch_list* hat, was *Note* aber nicht hat. Deswegen müssen wir das Argument überschreiben, sodass es unser *pitch* Attribut finden kann."
   ]
  },
  {
   "cell_type": "code",
   "execution_count": 5,
   "id": "3e3d7a07",
   "metadata": {},
   "outputs": [
    {
     "name": "stdout",
     "output_type": "stream",
     "text": [
      "[[WesternPitch('c', 4)], WesternVolume(p), ()]\n",
      "(Message('pitchwheel', channel=0, pitch=0, time=0), Message('note_on', channel=0, note=60, velocity=46, time=0), Message('note_off', channel=0, note=60, velocity=46, time=480))\n",
      "[[WesternPitch('d', 4)], WesternVolume(p), ()]\n",
      "(Message('pitchwheel', channel=1, pitch=0, time=479), Message('note_on', channel=1, note=62, velocity=46, time=480), Message('note_off', channel=1, note=62, velocity=46, time=960))\n"
     ]
    },
    {
     "name": "stderr",
     "output_type": "stream",
     "text": [
      "/home/levinericzimmermann/Texts/21BAmutwo/jupyter/.venv/lib/python3.9/site-packages/mutwo/core_events/envelopes.py:382: InvalidAverageValueStartAndEndWarning: Average value for range where start == end is equal to envelope.value_at(start)!\n",
      "  warnings.warn(core_utilities.InvalidAverageValueStartAndEndWarning())\n"
     ]
    }
   ],
   "source": [
    "# Definiere zuerst den Übersetzer\n",
    "event_to_midi_file = midi_converters.EventToMidiFile(\n",
    "    simple_event_to_pitch_list=lambda simple_event: [\n",
    "        getattr(simple_event, 'pitch')\n",
    "    ]\n",
    ")\n",
    "# Übersetze jetzt die Melodie\n",
    "event_to_midi_file.convert(melody, 'my_melody.mid')"
   ]
  }
 ],
 "metadata": {
  "kernelspec": {
   "display_name": "Python 3 (ipykernel)",
   "language": "python",
   "name": "python3"
  },
  "language_info": {
   "codemirror_mode": {
    "name": "ipython",
    "version": 3
   },
   "file_extension": ".py",
   "mimetype": "text/x-python",
   "name": "python",
   "nbconvert_exporter": "python",
   "pygments_lexer": "ipython3",
   "version": "3.9.12"
  }
 },
 "nbformat": 4,
 "nbformat_minor": 5
}
