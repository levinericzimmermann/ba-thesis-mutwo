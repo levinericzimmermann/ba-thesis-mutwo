{
 "cells": [
  {
   "cell_type": "code",
   "execution_count": 2,
   "id": "9c5f577a",
   "metadata": {},
   "outputs": [],
   "source": [
    "from mutwo import core_events\n",
    "from mutwo import midi_converters\n",
    "from mutwo import music_parameters"
   ]
  },
  {
   "cell_type": "code",
   "execution_count": 3,
   "id": "693652e4",
   "metadata": {},
   "outputs": [],
   "source": [
    "class Note(core_events.SimpleEvent):\n",
    "    # Dynamik ist konstant\n",
    "    volume = music_parameters.WesternVolume('p')\n",
    "\n",
    "    def __init__(self, pitch, duration):\n",
    "        self.pitch = pitch\n",
    "        \n",
    "        # Das ist Python spezifischer Syntax, um dem Konstruktor\n",
    "        # der Basisklasse das \"duration\" Argument zu übermitteln.\n",
    "        super().__init__(duration)"
   ]
  },
  {
   "cell_type": "code",
   "execution_count": 4,
   "id": "0b20178b",
   "metadata": {},
   "outputs": [],
   "source": [
    "melody = core_events.SequentialEvent(\n",
    "    [\n",
    "        Note(music_parameters.WesternPitch('c'), 1),\n",
    "        Note(music_parameters.WesternPitch('d'), 1),\n",
    "    ]\n",
    ")"
   ]
  },
  {
   "cell_type": "code",
   "execution_count": 5,
   "id": "3e3d7a07",
   "metadata": {},
   "outputs": [
    {
     "name": "stdout",
     "output_type": "stream",
     "text": [
      "[[WesternPitch('c', 4)], WesternVolume(p), ()]\n",
      "(Message('pitchwheel', channel=0, pitch=0, time=0), Message('note_on', channel=0, note=60, velocity=46, time=0), Message('note_off', channel=0, note=60, velocity=46, time=480))\n",
      "[[WesternPitch('d', 4)], WesternVolume(p), ()]\n",
      "(Message('pitchwheel', channel=1, pitch=0, time=479), Message('note_on', channel=1, note=62, velocity=46, time=480), Message('note_off', channel=1, note=62, velocity=46, time=960))\n"
     ]
    },
    {
     "name": "stderr",
     "output_type": "stream",
     "text": [
      "/home/levinericzimmermann/Texts/21BAmutwo/jupyter/.venv/lib/python3.9/site-packages/mutwo/core_events/envelopes.py:382: InvalidAverageValueStartAndEndWarning: Average value for range where start == end is equal to envelope.value_at(start)!\n",
      "  warnings.warn(core_utilities.InvalidAverageValueStartAndEndWarning())\n"
     ]
    }
   ],
   "source": [
    "# Definiere zuerst den Übersetzer\n",
    "event_to_midi_file = midi_converters.EventToMidiFile(\n",
    "    simple_event_to_pitch_list=lambda simple_event: [\n",
    "        getattr(simple_event, 'pitch')\n",
    "    ]\n",
    ")\n",
    "# Übersetze jetzt die Melodie\n",
    "event_to_midi_file.convert(melody, 'my_melody.mid')"
   ]
  },
  {
   "cell_type": "markdown",
   "id": "2b660b26",
   "metadata": {},
   "source": [
    "# Unspezifische Ereignisse\n",
    "\n",
    "## Dynamische Attribute\n",
    "\n",
    "Dieses Jupyter Notebook demonstriert den Umgang mit dynamischen Attributen.\n",
    "\n",
    "Die MIDI Datei wurde im vorgehenden Beispiel erfolgreich erzeugt. Die erzeugte MIDI Datei enthält *Note On* und *Note Off* Nachrichten, denen eine bestimmte *velocity* zugeordnet ist. Allerdings können MIDI Dateien auch noch weitere Nachrichten enthalten, wie z. B. Kontrollnachrichten. In der API Dokumentation der Klasse *EventToMidiFile* kann das Argument *simple_event_to_control_message_tuple* gefunden werden.\n",
    "\n",
    "Ist jetzt intendiert, dass die MIDI Datei auch Kontrollnachrichten (z. B. zur Steuerung der Klangsynthese) enthält, könnte eine neue *Note* Klasse definiert werden. Aber vielleicht brauchen die meisten Noteninstanzen keine Kontrollwerte. In dem Fall mag es eleganter sein, bestimmten Noten in der Melodie dynamisch Kontrollnachrichten hinzuzufügen."
   ]
  },
  {
   "cell_type": "code",
   "execution_count": 6,
   "id": "e72ccdbe",
   "metadata": {},
   "outputs": [
    {
     "name": "stdout",
     "output_type": "stream",
     "text": [
      "[[WesternPitch('c', 4)], WesternVolume(p), (Message('control_change', channel=0, control=10, value=127, time=0), Message('control_change', channel=0, control=11, value=64, time=0))]\n",
      "(Message('control_change', channel=0, control=10, value=127, time=0), Message('control_change', channel=0, control=11, value=64, time=0), Message('pitchwheel', channel=0, pitch=0, time=0), Message('note_on', channel=0, note=60, velocity=46, time=0), Message('note_off', channel=0, note=60, velocity=46, time=480))\n",
      "[[WesternPitch('d', 4)], WesternVolume(p), ()]\n",
      "(Message('pitchwheel', channel=1, pitch=0, time=479), Message('note_on', channel=1, note=62, velocity=46, time=480), Message('note_off', channel=1, note=62, velocity=46, time=960))\n"
     ]
    }
   ],
   "source": [
    "# Importiere das externe mido Paket, um Kontrollnachrichten\n",
    "# initalisieren zu können. Mutwo verwendet auch mido um MIDI\n",
    "# Dateien zu lesen und zu schreiben.\n",
    "import mido\n",
    "# Ordne jetzt der ersten Note Kontrollwerte zu.\n",
    "# Siehe die mido Dokumentation bezüglich der Initialisierung\n",
    "# von Nachrichteninstanzen.\n",
    "melody[0].control_message_tuple = (\n",
    "    mido.Message(\"control_change\", channel=0, control=10, value=127),\n",
    "    mido.Message(\"control_change\", channel=0, control=11, value=64),\n",
    ")\n",
    "# Übersetze jetzt die Melodie mit den Kontrollnachrichten.\n",
    "event_to_midi_file.convert(melody, 'my_melody.mid')"
   ]
  }
 ],
 "metadata": {
  "kernelspec": {
   "display_name": "Python 3 (ipykernel)",
   "language": "python",
   "name": "python3"
  },
  "language_info": {
   "codemirror_mode": {
    "name": "ipython",
    "version": 3
   },
   "file_extension": ".py",
   "mimetype": "text/x-python",
   "name": "python",
   "nbconvert_exporter": "python",
   "pygments_lexer": "ipython3",
   "version": "3.9.12"
  }
 },
 "nbformat": 4,
 "nbformat_minor": 5
}
