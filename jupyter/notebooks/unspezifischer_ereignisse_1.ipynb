{
 "cells": [
  {
   "cell_type": "markdown",
   "id": "02a99c16",
   "metadata": {},
   "source": [
    "## `Unspezifische Ereignisse`\n",
    "\n",
    "### `Funktionen höherer Ordnung`\n",
    "\n",
    "`Dieses Jupyter Notebook demonstriert praktisch den Umgang mit Funktionen höherer Ordnung in dritten Programmkomponenten.`\n",
    "\n",
    "`Die exemplarische dritte Programmkomponente ist hier ein Übersetzer von Ereignisse in MIDI Dateien.` "
   ]
  },
  {
   "cell_type": "code",
   "execution_count": 2,
   "id": "8396040e",
   "metadata": {},
   "outputs": [],
   "source": [
    "from mutwo import core_events\n",
    "from mutwo import midi_converters\n",
    "from mutwo import music_parameters"
   ]
  },
  {
   "cell_type": "markdown",
   "id": "c03c86c5",
   "metadata": {},
   "source": [
    "`Nehmen wir an wir formalisieren eine einfache Choreographie für eine Person. Die Choreographie besteht nur aus Kopfbewegungen. Es gibt vier unterschiedliche Bewegungsrichtungen (links, rechts, oben, unten). Zur Vereinfachung wird für die Richtung keine eigene Parameterklasse implementiert, sondern die Bewegungen werden direkt als Zeichenketten dargestellt.`\n",
    "\n",
    "`Zu der Choreographie möchten wir dann eine Klangdatei erzeugen. Die Klangdatei soll je nach Bewegungsrichtung eine andere Tonhöhe spielen.`\n",
    "\n",
    "`Zuerst wird eine eigene Ereignisklasse definiert, die die Kopfbewegung repräsentiert. Die Ereignisklasse erbt von der Ereignisbasisklasse *SimpleEvent*.`"
   ]
  },
  {
   "cell_type": "code",
   "execution_count": 3,
   "id": "fc8747d1",
   "metadata": {},
   "outputs": [],
   "source": [
    "# Deklaration aller Bewegungsrichtungen\n",
    "LEFT, RIGHT, UP, DOWN = \"left\", \"right\", \"up\", \"down\"\n",
    "# Einfache globale Zuweisung von Richtung zu Tonhöhe\n",
    "DIRECTION_TO_PITCH = {\n",
    "    LEFT: music_parameters.JustIntonationPitch('3/2'),\n",
    "    RIGHT: music_parameters.JustIntonationPitch('4/3'),\n",
    "    UP: music_parameters.JustIntonationPitch('5/4'),\n",
    "    DOWN: music_parameters.JustIntonationPitch('4/5')\n",
    "}\n",
    "\n",
    "class HeadMovement(core_events.SimpleEvent):\n",
    "    # Wir benutzen eine konstante Dynamik.\n",
    "    volume = music_parameters.WesternVolume('mp')\n",
    "    \n",
    "    def __init__(self, direction, duration):\n",
    "        self.direction = direction\n",
    "        \n",
    "        # Das ist Python spezifischer Syntax, um dem Konstruktor\n",
    "        # der Basisklasse das Dauerargument zu übermitteln.\n",
    "        super().__init__(duration)\n",
    "    \n",
    "    @property\n",
    "    def pitch(self):\n",
    "        return DIRECTION_TO_PITCH[self.direction]"
   ]
  },
  {
   "cell_type": "markdown",
   "id": "755aa113",
   "metadata": {},
   "source": [
    "`Als nächstens definieren wir unsere einfache Choreographie, die aus vier sequentiellen Bewegungen besteht.`"
   ]
  },
  {
   "cell_type": "code",
   "execution_count": 4,
   "id": "fa2a3e07",
   "metadata": {},
   "outputs": [],
   "source": [
    "choreography = core_events.SequentialEvent([\n",
    "    HeadMovement(LEFT, 1),\n",
    "    HeadMovement(UP, 0.5),\n",
    "    HeadMovement(RIGHT, 2),\n",
    "    HeadMovement(DOWN, 3)\n",
    "])"
   ]
  },
  {
   "cell_type": "markdown",
   "id": "71599ca9",
   "metadata": {},
   "source": [
    "`Jetzt möchten wir die Choreographie in eine MIDI Datei übersetzen. In der [API Dokumentation der Klasse](https://mutwo.readthedocs.io/en/latest/api/mutwo.midi_converters.html#mutwo.midi_converters.EventToMidiFile) können wir nachlesen, dass diese unter anderem das Argument *simple_event_to_pitch_list* hat. Wir können auch nachlesen, dass dieses Argument standardisiert davon ausgeht, dass ein SimpleEvent ein Attribut namens *pitch_list* hat, was *HeadMovement* aber nicht hat. Deswegen müssen wir das Argument überschreiben, sodass es unser *pitch* Attribut finden kann.`\n",
    "\n",
    "`Wir werden es hier mit einer anonymen Lambdafunktion überschreiben, die die Tonhöhe in einer Liste zurückgibt.`"
   ]
  },
  {
   "cell_type": "code",
   "execution_count": 6,
   "id": "3491e652",
   "metadata": {},
   "outputs": [],
   "source": [
    "event_to_midi_file = midi_converters.EventToMidiFile(\n",
    "    simple_event_to_pitch_list=lambda simple_event: [\n",
    "        getattr(simple_event, 'pitch')\n",
    "    ]\n",
    ")"
   ]
  },
  {
   "cell_type": "markdown",
   "id": "c2da25e7",
   "metadata": {},
   "source": [
    "`Zum Schluss kann die MIDI Datei erzeugt werden.`"
   ]
  },
  {
   "cell_type": "code",
   "execution_count": 7,
   "id": "7cb83138",
   "metadata": {},
   "outputs": [
    {
     "name": "stdout",
     "output_type": "stream",
     "text": [
      "[[JustIntonationPitch('3/2')], WesternVolume(mp), ()]\n",
      "(Message('pitchwheel', channel=0, pitch=80, time=0), Message('note_on', channel=0, note=76, velocity=57, time=0), Message('note_off', channel=0, note=76, velocity=57, time=480))\n",
      "[[JustIntonationPitch('5/4')], WesternVolume(mp), ()]\n",
      "(Message('pitchwheel', channel=1, pitch=-561, time=479), Message('note_on', channel=1, note=73, velocity=57, time=480), Message('note_off', channel=1, note=73, velocity=57, time=720))\n",
      "[[JustIntonationPitch('4/3')], WesternVolume(mp), ()]\n",
      "(Message('pitchwheel', channel=2, pitch=-80, time=719), Message('note_on', channel=2, note=74, velocity=57, time=720), Message('note_off', channel=2, note=74, velocity=57, time=1680))\n",
      "[[JustIntonationPitch('4/5')], WesternVolume(mp), ()]\n",
      "(Message('pitchwheel', channel=3, pitch=561, time=1679), Message('note_on', channel=3, note=65, velocity=57, time=1680), Message('note_off', channel=3, note=65, velocity=57, time=3120))\n"
     ]
    },
    {
     "name": "stderr",
     "output_type": "stream",
     "text": [
      "/home/levinericzimmermann/Texts/21BAmutwo/jupyter/.venv/lib/python3.9/site-packages/mutwo/core_events/envelopes.py:382: InvalidAverageValueStartAndEndWarning: Average value for range where start == end is equal to envelope.value_at(start)!\n",
      "  warnings.warn(core_utilities.InvalidAverageValueStartAndEndWarning())\n"
     ]
    }
   ],
   "source": [
    "midi_file = event_to_midi_file(choreography, 'choreography.mid')"
   ]
  }
 ],
 "metadata": {
  "kernelspec": {
   "display_name": "Python 3 (ipykernel)",
   "language": "python",
   "name": "python3"
  },
  "language_info": {
   "codemirror_mode": {
    "name": "ipython",
    "version": 3
   },
   "file_extension": ".py",
   "mimetype": "text/x-python",
   "name": "python",
   "nbconvert_exporter": "python",
   "pygments_lexer": "ipython3",
   "version": "3.9.12"
  }
 },
 "nbformat": 4,
 "nbformat_minor": 5
}
