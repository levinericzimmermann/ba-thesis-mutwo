{
 "cells": [
  {
   "cell_type": "markdown",
   "id": "c9b1d5af",
   "metadata": {},
   "source": [
    "# Globale Voreinstellungen\n",
    "\n",
    "Dieses Jupyter Notebook demonstriert die Idee globaler Standardwerte."
   ]
  },
  {
   "cell_type": "code",
   "execution_count": 2,
   "id": "40233798",
   "metadata": {},
   "outputs": [],
   "source": [
    "from mutwo import music_parameters"
   ]
  },
  {
   "cell_type": "code",
   "execution_count": 3,
   "id": "0c2e9683",
   "metadata": {},
   "outputs": [],
   "source": [
    "a4 = music_parameters.WesternPitch('a', 4)"
   ]
  },
  {
   "cell_type": "code",
   "execution_count": 4,
   "id": "34e8055f",
   "metadata": {},
   "outputs": [
    {
     "name": "stdout",
     "output_type": "stream",
     "text": [
      "440.0\n"
     ]
    }
   ],
   "source": [
    "print(a4.frequency)"
   ]
  },
  {
   "cell_type": "markdown",
   "id": "888f0db8",
   "metadata": {},
   "source": [
    "Der Standardwert für den Kammerton kann global konfiguriert werden."
   ]
  },
  {
   "cell_type": "code",
   "execution_count": 5,
   "id": "baf952f6",
   "metadata": {},
   "outputs": [],
   "source": [
    "music_parameters.configurations.DEFAULT_CONCERT_PITCH = 443"
   ]
  },
  {
   "cell_type": "markdown",
   "id": "a45c0eee",
   "metadata": {},
   "source": [
    "Wird danach eine neue Tonhöhe initialisiert, wird *mutwo* den Kammerton dynamisch anpassen."
   ]
  },
  {
   "cell_type": "code",
   "execution_count": 6,
   "id": "7788b44c",
   "metadata": {},
   "outputs": [],
   "source": [
    "a4_443 = music_parameters.WesternPitch('a', 4)"
   ]
  },
  {
   "cell_type": "code",
   "execution_count": 7,
   "id": "7c504578",
   "metadata": {},
   "outputs": [
    {
     "name": "stdout",
     "output_type": "stream",
     "text": [
      "443.0\n"
     ]
    }
   ],
   "source": [
    "print(a4_443.frequency)"
   ]
  },
  {
   "cell_type": "markdown",
   "id": "ed931113",
   "metadata": {},
   "source": [
    "Der Kammerton kann aber auch explizit als Eingangswert wieder überschrieben werden."
   ]
  },
  {
   "cell_type": "code",
   "execution_count": 8,
   "id": "27fcec20",
   "metadata": {},
   "outputs": [],
   "source": [
    "a4_440 = music_parameters.WesternPitch('a', 4, concert_pitch=440)"
   ]
  },
  {
   "cell_type": "code",
   "execution_count": 9,
   "id": "2eb3ea44",
   "metadata": {},
   "outputs": [
    {
     "name": "stdout",
     "output_type": "stream",
     "text": [
      "440.0\n"
     ]
    }
   ],
   "source": [
    "print(a4_440.frequency)"
   ]
  }
 ],
 "metadata": {
  "kernelspec": {
   "display_name": "Python 3 (ipykernel)",
   "language": "python",
   "name": "python3"
  },
  "language_info": {
   "codemirror_mode": {
    "name": "ipython",
    "version": 3
   },
   "file_extension": ".py",
   "mimetype": "text/x-python",
   "name": "python",
   "nbconvert_exporter": "python",
   "pygments_lexer": "ipython3",
   "version": "3.9.12"
  }
 },
 "nbformat": 4,
 "nbformat_minor": 5
}
